{
 "cells": [
  {
   "cell_type": "code",
   "execution_count": null,
   "id": "dbf73572-cc15-4783-89a0-72b537ad1989",
   "metadata": {},
   "outputs": [],
   "source": [
    "import pandas as pd\n",
    "import os\n",
    "from keplergl import KeplerGl\n",
    "from pyproj import CRS \n",
    "import numpy as np\n",
    "from matplotlib import pyplot as plt"
   ]
  },
  {
   "cell_type": "code",
   "execution_count": null,
   "id": "db958bb1-5bfb-4ddb-b2a6-3795f4ca3d23",
   "metadata": {},
   "outputs": [],
   "source": [
    "df = pd.read_csv(\"/Users/rchetata/ach_2/Citi_Bike_LG_merge\")"
   ]
  },
  {
   "cell_type": "code",
   "execution_count": null,
   "id": "4dc32415-2ad1-4430-9bbc-eedbe64aaa4a",
   "metadata": {
    "scrolled": true
   },
   "outputs": [],
   "source": [
    "# Wranglign data for map\n",
    "\n",
    "df[\"value\"] = 1\n",
    "df_trip = df.groupby(['start_station_name', 'end_station_name'], as_index=False).agg(\n",
    "    {'start_lat':'mean',\n",
    "     'start_lng':'mean',\n",
    "     'end_lat':'mean',\n",
    "     'end_lng':'mean',\n",
    "     'avgTemp':'mean',\n",
    "     'value':'count'})\n",
    "df_trip.rename(columns = {'value': 'trips'}, inplace = True)"
   ]
  },
  {
   "cell_type": "code",
   "execution_count": null,
   "id": "9cd655ae-7134-49ce-8762-d54490466d3a",
   "metadata": {},
   "outputs": [],
   "source": [
    "# Sorting df before using \n",
    "df_trip = df_trip.sort_values(\"trips\")"
   ]
  },
  {
   "cell_type": "code",
   "execution_count": null,
   "id": "13f7c239-a220-46b7-be17-d34561756be3",
   "metadata": {},
   "outputs": [],
   "source": [
    "# Create KeplerGl instance\n",
    "map = KeplerGl(height = 700)\n",
    "map.add_data(df_trip)"
   ]
  },
  {
   "cell_type": "code",
   "execution_count": null,
   "id": "ca481e70-308a-4531-87fd-2d5993ec9c22",
   "metadata": {},
   "outputs": [],
   "source": [
    "map"
   ]
  },
  {
   "cell_type": "markdown",
   "id": "6ddaf112-b128-4797-bb2e-1b92b1928be2",
   "metadata": {
    "editable": true,
    "raw_mimetype": "",
    "slideshow": {
     "slide_type": ""
    },
    "tags": []
   },
   "source": [
    "Customize the output of your map—adjust the color of the points and add an arc that connects them. Pick a suitable color palette for each. \n",
    "\n",
    "In a Markdown section, explain what settings you changed and why."
   ]
  },
  {
   "cell_type": "markdown",
   "id": "31f17c6c-30c8-4dc7-be6d-441f308c1109",
   "metadata": {},
   "source": [
    "I created an arc that connects the start and end stations. I picked a muted purple that stands out against the dark background of the map while complementing it. However, the amount of trips is so massive that it is hard to see the map under."
   ]
  },
  {
   "cell_type": "code",
   "execution_count": null,
   "id": "211f2b9a-70b1-441c-a2a5-6233ea30b243",
   "metadata": {},
   "outputs": [],
   "source": [
    "# Saving config as config file in folder\n",
    "import json\n",
    "config = map.config\n",
    "with open(\"config.json\", \"w\") as outfile:\n",
    "    json.dump(config, outfile)"
   ]
  },
  {
   "cell_type": "code",
   "execution_count": null,
   "id": "46c53ae6-2647-4605-91f5-91fb0c56f2b3",
   "metadata": {},
   "outputs": [],
   "source": [
    "# Saving map\n",
    "map.save_to_html(file_name='Citi_Bike_Trips_Aggregated_Map.html', read_only = False, config = config)"
   ]
  },
  {
   "cell_type": "markdown",
   "id": "62017c4e-576c-4be1-8522-a8ed91a03b50",
   "metadata": {},
   "source": [
    "What else makes an impression? For example, are there any zones that seem particularly busy? Using some additional research, write a few sentences to make sense of that output."
   ]
  },
  {
   "cell_type": "markdown",
   "id": "8aa5b99b-3d77-4307-86fc-fa2158f0f9f5",
   "metadata": {},
   "source": [
    "I filtered to stations links with more than 2700 trips. I was surprised that popular stations were higher in Manhattan than expected because I assumed that it would be downtown where there are more people. This could be used to influence where to place ads in the city. "
   ]
  }
 ],
 "metadata": {
  "kernelspec": {
   "display_name": "Python [conda env:base] *",
   "language": "python",
   "name": "conda-base-py"
  },
  "language_info": {
   "codemirror_mode": {
    "name": "ipython",
    "version": 3
   },
   "file_extension": ".py",
   "mimetype": "text/x-python",
   "name": "python",
   "nbconvert_exporter": "python",
   "pygments_lexer": "ipython3",
   "version": "3.12.7"
  }
 },
 "nbformat": 4,
 "nbformat_minor": 5
}
