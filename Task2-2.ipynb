{
 "cells": [
  {
   "cell_type": "code",
   "execution_count": null,
   "id": "4bfbbdf7-db56-4916-9854-83e6504dae77",
   "metadata": {},
   "outputs": [],
   "source": [
    "# Installing necessary libraries\n",
    "import pandas as pd\n",
    "import numpy as np\n",
    "import os\n",
    "import requests\n",
    "import json\n",
    "import datetime # for more modules later"
   ]
  },
  {
   "cell_type": "raw",
   "id": "6fc260b7-2ffe-4e69-8799-f4777dd651bf",
   "metadata": {},
   "source": [
    "# read and join data"
   ]
  },
  {
   "cell_type": "code",
   "execution_count": null,
   "id": "fef9c086-952f-41c1-a924-7c2d66c1cb43",
   "metadata": {},
   "outputs": [],
   "source": [
    "# Create a list with all files in the folder \n",
    "# change file path\n",
    "    # find file path if not working\n",
    "    # print(f\"your current wd is: {os.getcwd()}\")\n",
    "folderpath = r\"2022-citibike-tripdata\"\n",
    "filepath = [os.path.join(folderpath, name) for name in os.listdir(folderpath)]\n",
    "filepath"
   ]
  },
  {
   "cell_type": "code",
   "execution_count": null,
   "id": "680555b7-93ff-4b4c-9f90-ecc1d0895aec",
   "metadata": {},
   "outputs": [],
   "source": [
    "# had to use zipfile to open because read_csv can\"t read multiple files from one zip\n",
    "import zipfile\n",
    "\n",
    "# pick important columns\n",
    "columns = [\"ride_id\", \"started_at\", \"ended_at\", \"start_station_name\", \"end_station_name\"]\n",
    "\n",
    "# create emtpy dataframe for citi bike data \n",
    "citi_df = pd.DataFrame()\n",
    "\n",
    "# go through every zip in the filepath (12 for each month)\n",
    "for zip_file in filepath:\n",
    "    # Use zipfile to open each file\n",
    "    zf = zipfile.ZipFile(zip_file)\n",
    "    # read files individually\n",
    "    dfs = [pd.read_csv(zf.open(f), usecols = columns) for f in zf.namelist()]\n",
    "    # combine all files from singular zip file\n",
    "    df = pd.concat(dfs,ignore_index=True)\n",
    "    # add to citi_df\n",
    "    citi_df = pd.concat([citi_df, df], axis=0)\n",
    "\n",
    "# This has been checked using print(), code that has been deleted after check, and every file is read."
   ]
  },
  {
   "cell_type": "raw",
   "id": "b0e283ad-d677-4c4b-bb2d-0b686b0c8aab",
   "metadata": {},
   "source": [
    "My code in described in comments. "
   ]
  },
  {
   "cell_type": "code",
   "execution_count": null,
   "id": "851bb9ba-3eba-4131-bce3-36a9e7750207",
   "metadata": {},
   "outputs": [],
   "source": [
    "# NOAA token\n",
    "Token = \"UyzWJXDqukWjTLQeXjiHAxHkgloCIgNB\" \n",
    "# Request New York LaGuardia’s weather station for 2022 \n",
    "r = requests.get(\"https://www.ncdc.noaa.gov/cdo-web/api/v2/data?datasetid=GHCND&datatypeid=TAVG&limit=1000&stationid=GHCND:USW00014732&startdate=2022-01-01&enddate=2022-12-31\",headers={\"token\":Token})\n",
    "# Sort as json format\n",
    "weatherJson = json.loads(r.text) "
   ]
  },
  {
   "cell_type": "code",
   "execution_count": null,
   "id": "f395e133-0044-4efc-ac12-0a58d498b047",
   "metadata": {},
   "outputs": [],
   "source": [
    "# Wrangle data from weather\n",
    "\n",
    "avg_temps = [item for item in weatherJson[\"results\"] if item[\"datatype\"]==\"TAVG\"]\n",
    "date_temp = [item[\"date\"] for item in avg_temps]\n",
    "temps = [item[\"value\"] for item in avg_temps]\n",
    "\n",
    "# turn into df, fix date and tmep\n",
    "df_temps = pd.DataFrame({\"date\":date_temp, \"avgTemp\":temps})\n",
    "df_temps[\"date\"] = [datetime.datetime.strptime(d, \"%Y-%m-%dT%H:%M:%S\") for d in date_temp] \n",
    "df_temps[\"avgTemp\"] = [float(v)/10.0 for v in temps]\n",
    "\n",
    "df_temps.to_csv(\"NY_LaGuardia_weather-station_2022\")"
   ]
  },
  {
   "cell_type": "code",
   "execution_count": null,
   "id": "df02793b-28f7-4501-8c83-4b843e77ad8f",
   "metadata": {},
   "outputs": [],
   "source": [
    "# convert citi_df date format to be the same as df_temps\n",
    "citi_df[\"date\"] = citi_df[\"started_at\"].apply(lambda x: str(x)[0:10]) \n",
    "citi_df[\"date\"] = citi_df[\"date\"].apply(lambda x: datetime.datetime.strptime(x, \"%Y-%m-%d\")) \n",
    "# drop unneeded columns\n",
    "citi_df = citi_df.drop([\"started_at\",\"ended_at\"], axis = 1)"
   ]
  },
  {
   "cell_type": "code",
   "execution_count": null,
   "id": "55199839-694b-419f-9a7f-a8a30b2f0461",
   "metadata": {},
   "outputs": [],
   "source": [
    "citi_df.sort_values(by=\"date\") # check, shows than it has none 2021 values"
   ]
  },
  {
   "cell_type": "code",
   "execution_count": null,
   "id": "74deead7-4038-49c6-bc41-dd6836ab5c76",
   "metadata": {},
   "outputs": [],
   "source": [
    "# drop date out of bounds (includes days from 2021)\n",
    "\n",
    "# sort first to make faster?\n",
    "citi_df = citi_df.sort_values(by=\"date\")\n",
    "\n",
    "import datetime \n",
    "\n",
    "start = datetime.datetime.strptime(\"2022-01-01\", \"%Y-%m-%d\")\n",
    "end = datetime.datetime.strptime(\"2022-12-31\", \"%Y-%m-%d\")\n",
    "\n",
    "to_drop = []\n",
    "\n",
    "for index, row in citi_df.iterrows():\n",
    "    if not (start <= row[\"date\"] <= end):\n",
    "        # print(row[\"date\"])\n",
    "        to_drop.append(index)"
   ]
  },
  {
   "cell_type": "code",
   "execution_count": null,
   "id": "f8d52df7-e238-4171-81f8-afeeb78a848c",
   "metadata": {},
   "outputs": [],
   "source": [
    "citi_df = citi_df.drop(to_drop, axis=0)\n",
    "citi_df = citi_df.reset_index()"
   ]
  },
  {
   "cell_type": "code",
   "execution_count": null,
   "id": "f0df1579-ad21-4fbd-82e2-f6f18979fcf6",
   "metadata": {},
   "outputs": [],
   "source": [
    "citi_df.sort_values(by=\"date\") # check"
   ]
  },
  {
   "cell_type": "code",
   "execution_count": null,
   "id": "8bd49168-c2b6-4c55-911f-3c967282d3fb",
   "metadata": {},
   "outputs": [],
   "source": [
    "df_merged = citi_df.merge(df_temps, how = \"left\", on = \"date\", indicator = True)\n",
    "df_merged"
   ]
  },
  {
   "cell_type": "code",
   "execution_count": null,
   "id": "baa35b6e-9f48-4f54-9417-6e80654dd5d3",
   "metadata": {},
   "outputs": [],
   "source": [
    "df_merged.sort_values(by=\"date\") # check"
   ]
  },
  {
   "cell_type": "code",
   "execution_count": null,
   "id": "112587a9-c2b1-4f06-8792-2f46acacdb55",
   "metadata": {},
   "outputs": [],
   "source": [
    "df_merged['_merge'].value_counts(dropna = False)"
   ]
  },
  {
   "cell_type": "code",
   "execution_count": null,
   "id": "0bd1211f-4184-4d0c-be0d-0f6a48cbb8f3",
   "metadata": {},
   "outputs": [],
   "source": [
    "df_merged.to_csv(\"Citi_Bike_LG_merge\")"
   ]
  }
 ],
 "metadata": {
  "kernelspec": {
   "display_name": "Python 3 (ipykernel)",
   "language": "python",
   "name": "python3"
  },
  "language_info": {
   "codemirror_mode": {
    "name": "ipython",
    "version": 3
   },
   "file_extension": ".py",
   "mimetype": "text/x-python",
   "name": "python",
   "nbconvert_exporter": "python",
   "pygments_lexer": "ipython3",
   "version": "3.12.7"
  }
 },
 "nbformat": 4,
 "nbformat_minor": 5
}
