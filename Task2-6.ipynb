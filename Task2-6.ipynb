{
 "cells": [
  {
   "cell_type": "code",
   "execution_count": null,
   "id": "6815b35e-5312-4ad4-b449-e2dcf7d2508b",
   "metadata": {},
   "outputs": [],
   "source": [
    "import pandas as pd\n",
    "import numpy as np\n",
    "from plotly.subplots import make_subplots\n",
    "import plotly.graph_objects as go\n",
    "import matplotlib.pyplot as plt\n",
    "from datetime import datetime as dt "
   ]
  },
  {
   "cell_type": "code",
   "execution_count": null,
   "id": "e0eb5b90-2a65-41e1-b8aa-f139113e8fc3",
   "metadata": {},
   "outputs": [],
   "source": [
    "df = pd.read_csv(\"Citi_Bike_LG_merge\")"
   ]
  },
  {
   "cell_type": "code",
   "execution_count": null,
   "id": "829f56b8-4e71-4c59-ae4b-9e91cd2c7351",
   "metadata": {},
   "outputs": [],
   "source": [
    "# Groupby to aggregate data\n",
    "df[\"value\"] = 1\n",
    "df_groupby_bar = df.groupby(\"start_station_name\", as_index=False).agg({\"value\" : \"sum\"})\n",
    "top20 = df_groupby_bar.nlargest(20, \"value\")"
   ]
  },
  {
   "cell_type": "code",
   "execution_count": null,
   "id": "01c1264a-3288-4fa8-805d-55c46be8d6d6",
   "metadata": {},
   "outputs": [],
   "source": [
    "# for step 7\n",
    "df_groupby_bar.to_csv(\"reduced_data_to_plot.csv\")\n",
    "top20.to_csv(\"top20.csv\")"
   ]
  },
  {
   "cell_type": "code",
   "execution_count": null,
   "id": "43349f93-1d35-406c-9118-1a9cca37635c",
   "metadata": {},
   "outputs": [],
   "source": [
    "# Bar chart using pyplot\n",
    "fig = go.Figure(go.Bar(x = top20[\"start_station_name\"], y = top20[\"value\"], marker = {\"color\": top20[\"value\"],\"colorscale\": \"PuRd\"}))\n",
    "fig.update_layout(\n",
    "     title = \"Top 20 most popular bike stations in New York\",\n",
    "     xaxis_title = \"Start stations\",\n",
    "     yaxis_title =\"Sum of trips\",\n",
    "     width = 900, height = 600)\n",
    "fig.show()"
   ]
  },
  {
   "cell_type": "raw",
   "id": "5a06dbf7-c5f7-4f85-8c5f-549c516196f3",
   "metadata": {},
   "source": [
    "Create a dual-axis line chart for the aggregated bike trips and temperatures in plotly."
   ]
  },
  {
   "cell_type": "code",
   "execution_count": null,
   "id": "5d886615-42ee-4bec-ae26-aa4f33fadf3c",
   "metadata": {},
   "outputs": [],
   "source": [
    "df_condensed = pd.read_csv(\"Citi_Weather_Date\")"
   ]
  },
  {
   "cell_type": "code",
   "execution_count": null,
   "id": "eda0c897-3dfd-4cf3-9002-6254669074bd",
   "metadata": {
    "scrolled": true
   },
   "outputs": [],
   "source": [
    "# Dual Axis using pyplot\n",
    "fig = make_subplots(specs = [[{\"secondary_y\": True}]])\n",
    "fig.add_trace(\n",
    " go.Scatter(x = df_condensed[\"date\"], y = df_condensed[\"bike_rides_daily\"], name = \"Daily bike rides\", \n",
    " marker={\"color\": df_condensed[\"bike_rides_daily\"],\"color\": \"#dd1c77\"}),\n",
    " secondary_y = False)\n",
    "fig.add_trace(\n",
    " go.Scatter(x=df_condensed[\"date\"], y = df_condensed[\"avgTemp\"], name = \"Daily temperature\", \n",
    " marker={\"color\": df_condensed[\"avgTemp\"],\"color\": \"#61187c\"}),\n",
    " secondary_y=True)\n",
    "fig.update_layout(\n",
    "    title = \"Top 20 most popular bike stations in New York\",\n",
    "    xaxis_title = \"Start stations\",\n",
    "    yaxis_title =\"Sum of trips\",\n",
    "    width = 900, height = 600)\n",
    "fig.show()"
   ]
  }
 ],
 "metadata": {
  "kernelspec": {
   "display_name": "Python [conda env:base] *",
   "language": "python",
   "name": "conda-base-py"
  },
  "language_info": {
   "codemirror_mode": {
    "name": "ipython",
    "version": 3
   },
   "file_extension": ".py",
   "mimetype": "text/x-python",
   "name": "python",
   "nbconvert_exporter": "python",
   "pygments_lexer": "ipython3",
   "version": "3.12.7"
  }
 },
 "nbformat": 4,
 "nbformat_minor": 5
}
